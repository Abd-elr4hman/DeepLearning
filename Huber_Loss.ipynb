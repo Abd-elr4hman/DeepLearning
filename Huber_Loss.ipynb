{
  "nbformat": 4,
  "nbformat_minor": 0,
  "metadata": {
    "colab": {
      "name": "Huber Loss.ipynb",
      "provenance": [],
      "collapsed_sections": [],
      "toc_visible": true,
      "authorship_tag": "ABX9TyP7t+tP/KrIO8uePJUx0FHV"
    },
    "kernelspec": {
      "name": "python3",
      "display_name": "Python 3"
    },
    "language_info": {
      "name": "python"
    }
  },
  "cells": [
    {
      "cell_type": "markdown",
      "metadata": {
        "id": "9JEnhSNxhGcV"
      },
      "source": [
        "![g.PNG](data:image/png;base64,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)"
      ]
    },
    {
      "cell_type": "code",
      "metadata": {
        "id": "-n9M6oF-fgZc"
      },
      "source": [
        "import tensorflow as tf\n",
        "import numpy as np\n",
        "from tensorflow import keras\n",
        "from tensorflow.keras.losses import Loss"
      ],
      "execution_count": 16,
      "outputs": []
    },
    {
      "cell_type": "code",
      "metadata": {
        "id": "Uywoncu3fv6H"
      },
      "source": [
        "\n",
        "x = np.array([-1.0, 0.0, 1.0, 2.0, 3.0, 4.0], dtype=float)\n",
        "y = np.array([-3.0, -1.0, 1.0, 3.0, 5.0, 7.0], dtype=float)\n",
        "\n"
      ],
      "execution_count": 2,
      "outputs": []
    },
    {
      "cell_type": "code",
      "metadata": {
        "id": "BjgV94WNgNgd"
      },
      "source": [
        "#implementing huber loss as a function\n",
        "def my_huber_loss_with_threshold(threshold):\n",
        "  def my_huber_loss(y_true, y_pred):\n",
        "    a = y_true - y_pred\n",
        "    a_smaller = tf.abs(a) <= threshold\n",
        "    smaller_a_loss = tf.square(a)/2\n",
        "    bigger_a_loss = threshold * (tf.abs(a) - 0.5 * threshold)\n",
        "    return tf.where(a_smaller, smaller_a_loss, bigger_a_loss)\n",
        "  return my_huber_loss\n",
        "\n"
      ],
      "execution_count": 10,
      "outputs": []
    },
    {
      "cell_type": "code",
      "metadata": {
        "colab": {
          "base_uri": "https://localhost:8080/"
        },
        "id": "OK2i4iaYiqOM",
        "outputId": "704fc7ba-fb26-4a86-a1c2-f550eb63949d"
      },
      "source": [
        "model = tf.keras.Sequential([keras.layers.Dense(units=1, input_shape=[1])])\n",
        "model.compile(optimizer = 'sgd', loss=my_huber_loss_with_threshold(threshold=1))\n",
        "model.fit(x, y, epochs = 500, verbose=0)\n"
      ],
      "execution_count": 11,
      "outputs": [
        {
          "output_type": "execute_result",
          "data": {
            "text/plain": [
              "<tensorflow.python.keras.callbacks.History at 0x7f9b20ed3190>"
            ]
          },
          "metadata": {
            "tags": []
          },
          "execution_count": 11
        }
      ]
    },
    {
      "cell_type": "code",
      "metadata": {
        "colab": {
          "base_uri": "https://localhost:8080/"
        },
        "id": "-8byTUq4jYYz",
        "outputId": "a708f23d-b014-49c0-a70b-13677c5bf45a"
      },
      "source": [
        "print(model.predict([10]))"
      ],
      "execution_count": 13,
      "outputs": [
        {
          "output_type": "stream",
          "text": [
            "[[18.563112]]\n"
          ],
          "name": "stdout"
        }
      ]
    },
    {
      "cell_type": "code",
      "metadata": {
        "id": "Gw-E1Te3kZP9"
      },
      "source": [
        "#implementing huber loss as a class\n",
        "class MyHuberLoss(Loss):\n",
        "  threshold=1\n",
        "  def __init__(self, threshold):\n",
        "    super().__init__()\n",
        "    self.threshold=threshold\n",
        "\n",
        "  def call(self, y_true, y_pred):\n",
        "    a = y_true - y_pred\n",
        "    a_smaller = tf.abs(a) <= self.threshold\n",
        "    smaller_a_loss = tf.square(a)/2\n",
        "    bigger_a_loss = self.threshold * (tf.abs(a) - 0.5 * self.threshold)\n",
        "    return tf.where(a_smaller, smaller_a_loss, bigger_a_loss)\n",
        "\n",
        "\n"
      ],
      "execution_count": 17,
      "outputs": []
    },
    {
      "cell_type": "code",
      "metadata": {
        "colab": {
          "base_uri": "https://localhost:8080/"
        },
        "id": "w36tkuVXlQZ0",
        "outputId": "83aec949-5e1b-4467-aaef-8bc0080d0442"
      },
      "source": [
        "model = tf.keras.Sequential([keras.layers.Dense(units=1, input_shape=[1])])\n",
        "model.compile(optimizer = 'sgd', loss=MyHuberLoss(threshold=1))\n",
        "model.fit(x, y, epochs = 500, verbose=0)"
      ],
      "execution_count": 18,
      "outputs": [
        {
          "output_type": "execute_result",
          "data": {
            "text/plain": [
              "<tensorflow.python.keras.callbacks.History at 0x7f9b1f502c10>"
            ]
          },
          "metadata": {
            "tags": []
          },
          "execution_count": 18
        }
      ]
    },
    {
      "cell_type": "code",
      "metadata": {
        "colab": {
          "base_uri": "https://localhost:8080/"
        },
        "id": "c-0NFNDZlh1_",
        "outputId": "d86da5f1-450d-4b3c-cbb0-5ac89ed1dbec"
      },
      "source": [
        "print(model.predict([10]))"
      ],
      "execution_count": 19,
      "outputs": [
        {
          "output_type": "stream",
          "text": [
            "[[18.465803]]\n"
          ],
          "name": "stdout"
        }
      ]
    },
    {
      "cell_type": "code",
      "metadata": {
        "id": "qkw_CpIMlj50"
      },
      "source": [
        ""
      ],
      "execution_count": null,
      "outputs": []
    }
  ]
}