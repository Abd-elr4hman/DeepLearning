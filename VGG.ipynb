{
  "nbformat": 4,
  "nbformat_minor": 0,
  "metadata": {
    "colab": {
      "name": "VGG.ipynb",
      "provenance": [],
      "include_colab_link": true
    },
    "kernelspec": {
      "name": "python3",
      "display_name": "Python 3"
    },
    "accelerator": "GPU"
  },
  "cells": [
    {
      "cell_type": "markdown",
      "metadata": {
        "id": "view-in-github",
        "colab_type": "text"
      },
      "source": [
        "<a href=\"https://colab.research.google.com/github/Abd-elr4hman/DeepLearning/blob/main/VGG.ipynb\" target=\"_parent\"><img src=\"https://colab.research.google.com/assets/colab-badge.svg\" alt=\"Open In Colab\"/></a>"
      ]
    },
    {
      "cell_type": "code",
      "metadata": {
        "id": "508p9s0c9DL2"
      },
      "source": [
        "import tensorflow as tf\n",
        "import tensorflow_datasets as tfds\n",
        "from tensorflow.keras.utils import plot_model\n",
        "from matplotlib import pyplot as plt"
      ],
      "execution_count": null,
      "outputs": []
    },
    {
      "cell_type": "code",
      "metadata": {
        "id": "nQJjlNpt9I4L"
      },
      "source": [
        "\n",
        "class Block(tf.keras.Model):\n",
        "    def __init__(self, filters, kernel_size, repetitions, pool_size=2, strides=2):\n",
        "        super(Block, self).__init__()\n",
        "        self.filters = filters\n",
        "        self.kernel_size = kernel_size\n",
        "        self.repetitions = repetitions\n",
        "        \n",
        "        # Define a conv2D_0, conv2D_1, etc based on the number of repetitions\n",
        "        for i in range(self.repetitions):\n",
        "            \n",
        "            # Define a Conv2D layer, specifying filters, kernel_size, activation and padding.\n",
        "            vars(self)[f'conv2D_{i}'] = tf.keras.layers.Conv2D(filters, kernel_size, activation='relu', padding='same')\n",
        "        \n",
        "        # Define the max pool layer \n",
        "        self.max_pool = tf.keras.layers.MaxPooling2D(pool_size, strides)\n",
        "  \n",
        "    def call(self, inputs):\n",
        "        # access the class's conv2D_0 layer\n",
        "        conv2D_0 = self.conv2D_0\n",
        "        \n",
        "        # Connect the conv2D_0 layer to inputs\n",
        "        x = conv2D_0(inputs)\n",
        "\n",
        "        # for the remaining conv2D_i layers from 1 to `repetitions` they will be connected to the previous layer\n",
        "        for i in range(1,self.repetitions):\n",
        "            # access conv2D_i.\n",
        "            conv2D_i = vars(self)[f'conv2D_{i}']\n",
        "            \n",
        "            # Use the conv2D_i and connect it to the previous layer\n",
        "            x = conv2D_i(x)\n",
        "\n",
        "        # add the max_pool layer\n",
        "        max_pool = tf.keras.layers.MaxPooling2D()(x)\n",
        "        \n",
        "        return max_pool"
      ],
      "execution_count": null,
      "outputs": []
    },
    {
      "cell_type": "code",
      "metadata": {
        "id": "E8WWehKo9S4Q"
      },
      "source": [
        "\n",
        "class MyVGG(tf.keras.Model):\n",
        "\n",
        "    def __init__(self, num_classes):\n",
        "        super(MyVGG, self).__init__()\n",
        "\n",
        "        # Creating blocks of VGG with the following \n",
        "        # (filters, kernel_size, repetitions) configurations\n",
        "        self.block_a = Block(filters=64, kernel_size=3, repetitions=2)\n",
        "        self.block_b = Block(filters=128, kernel_size=3, repetitions=2)\n",
        "        self.block_c = Block(filters=256, kernel_size=3, repetitions=3)\n",
        "        self.block_d = Block(filters=512, kernel_size=3, repetitions=3)\n",
        "        self.block_e = Block(filters=512, kernel_size=3, repetitions=3)\n",
        "\n",
        "        # Classification head\n",
        "        # Define a Flatten layer\n",
        "        self.flatten = tf.keras.layers.Flatten()\n",
        "        # Create a Dense layer with 256 units and ReLU as the activation function\n",
        "        self.fc = tf.keras.layers.Dense(units=256,activation='relu')\n",
        "\n",
        "        # add the softmax classifier\n",
        "        self.classifier =  tf.keras.layers.Dense(num_classes, activation='softmax')\n",
        "\n",
        "    def call(self, inputs):\n",
        "        # Chain all the layers one after the other\n",
        "        x = self.block_a(inputs)\n",
        "        x = self.block_b(x)\n",
        "        x = self.block_c(x)\n",
        "        x = self.block_d(x)\n",
        "        x = self.block_e(x)\n",
        "        x = self.flatten(x)\n",
        "        x = self.fc(x)\n",
        "        x = self.classifier(x)\n",
        "        return x"
      ],
      "execution_count": null,
      "outputs": []
    },
    {
      "cell_type": "code",
      "metadata": {
        "id": "XBh7UmOC9VlX"
      },
      "source": [
        "# Initialize VGG with the number of classes \n",
        "vgg = MyVGG(num_classes=2)"
      ],
      "execution_count": null,
      "outputs": []
    },
    {
      "cell_type": "code",
      "metadata": {
        "colab": {
          "base_uri": "https://localhost:8080/"
        },
        "id": "sZX4kq6ldiz0",
        "outputId": "66709639-31d8-4137-d526-fa541bbaf47c"
      },
      "source": [
        "vgg.build((1, 224, 224, 3))\n",
        "#vgg.compile(optimizer='adam', loss='sparse_categorical_crossentropy', metrics=['accuracy'])\n"
      ],
      "execution_count": null,
      "outputs": [
        {
          "output_type": "stream",
          "text": [
            "Model: \"my_vgg\"\n",
            "_________________________________________________________________\n",
            "Layer (type)                 Output Shape              Param #   \n",
            "=================================================================\n",
            "block (Block)                multiple                  0         \n",
            "_________________________________________________________________\n",
            "block_1 (Block)              multiple                  0         \n",
            "_________________________________________________________________\n",
            "block_2 (Block)              multiple                  0         \n",
            "_________________________________________________________________\n",
            "block_3 (Block)              multiple                  0         \n",
            "_________________________________________________________________\n",
            "block_4 (Block)              multiple                  0         \n",
            "_________________________________________________________________\n",
            "flatten (Flatten)            multiple                  0         \n",
            "_________________________________________________________________\n",
            "dense (Dense)                multiple                  6422784   \n",
            "_________________________________________________________________\n",
            "dense_1 (Dense)              multiple                  514       \n",
            "=================================================================\n",
            "Total params: 6,423,298\n",
            "Trainable params: 6,423,298\n",
            "Non-trainable params: 0\n",
            "_________________________________________________________________\n"
          ],
          "name": "stdout"
        }
      ]
    },
    {
      "cell_type": "code",
      "metadata": {
        "colab": {
          "base_uri": "https://localhost:8080/"
        },
        "id": "hjFeEowfeJlS",
        "outputId": "49d78b04-9faa-453e-eaa1-2068897183e2"
      },
      "source": [
        "dataset = tfds.load('cats_vs_dogs', split=tfds.Split.TRAIN, data_dir='data/')\n",
        "\n",
        "# Initialize VGG with the number of classes \n",
        "vgg = MyVGG(num_classes=2)\n",
        "\n",
        "# Compile with losses and metrics\n",
        "vgg.compile(optimizer='adam', loss='sparse_categorical_crossentropy', metrics=['accuracy'])\n",
        "\n",
        "# Define preprocessing function\n",
        "def preprocess(features):\n",
        "    # Resize and normalize\n",
        "    image = tf.image.resize(features['image'], (224, 224))\n",
        "    return tf.cast(image, tf.float32) / 255., features['label']\n",
        "\n",
        "# Apply transformations to dataset\n",
        "dataset = dataset.map(preprocess).batch(32)\n",
        "\n",
        "# Train the custom VGG model\n",
        "history=vgg.fit(dataset, epochs=10)"
      ],
      "execution_count": null,
      "outputs": [
        {
          "output_type": "stream",
          "text": [
            "Epoch 1/10\n",
            "727/727 [==============================] - 87s 119ms/step - loss: 0.6861 - accuracy: 0.5528\n",
            "Epoch 2/10\n",
            "727/727 [==============================] - 89s 123ms/step - loss: 0.6533 - accuracy: 0.6262\n",
            "Epoch 3/10\n",
            "727/727 [==============================] - 90s 123ms/step - loss: 0.6222 - accuracy: 0.6582\n",
            "Epoch 4/10\n",
            "727/727 [==============================] - 91s 125ms/step - loss: 0.6047 - accuracy: 0.6735\n",
            "Epoch 5/10\n",
            "727/727 [==============================] - 91s 125ms/step - loss: 0.5938 - accuracy: 0.6824\n",
            "Epoch 6/10\n",
            "727/727 [==============================] - 89s 122ms/step - loss: 0.5855 - accuracy: 0.6896\n",
            "Epoch 7/10\n",
            "727/727 [==============================] - 90s 123ms/step - loss: 0.5783 - accuracy: 0.6960\n",
            "Epoch 8/10\n",
            "727/727 [==============================] - 88s 121ms/step - loss: 0.5717 - accuracy: 0.7020\n",
            "Epoch 9/10\n",
            "727/727 [==============================] - 89s 122ms/step - loss: 0.5654 - accuracy: 0.7072\n",
            "Epoch 10/10\n",
            "727/727 [==============================] - 92s 126ms/step - loss: 0.5593 - accuracy: 0.7124\n"
          ],
          "name": "stdout"
        }
      ]
    },
    {
      "cell_type": "code",
      "metadata": {
        "colab": {
          "base_uri": "https://localhost:8080/",
          "height": 286
        },
        "id": "aCovwbp6lg_T",
        "outputId": "e0814f34-6335-4290-fd37-283dfe88a112"
      },
      "source": [
        "\n",
        "#plt.plot(history.history['loss'], label='loss')\n",
        "plt.plot(history.history['accuracy'], label='accuracy')"
      ],
      "execution_count": null,
      "outputs": [
        {
          "output_type": "execute_result",
          "data": {
            "text/plain": [
              "[<matplotlib.lines.Line2D at 0x7fecf644d0d0>]"
            ]
          },
          "metadata": {
            "tags": []
          },
          "execution_count": 23
        },
        {
          "output_type": "display_data",
          "data": {
            "image/png": "[encoded data removed]",
            "text/plain": [
              "<Figure size 432x288 with 1 Axes>"
            ]
          },
          "metadata": {
            "tags": [],
            "needs_background": "light"
          }
        }
      ]
    },
    {
      "cell_type": "code",
      "metadata": {
        "colab": {
          "base_uri": "https://localhost:8080/"
        },
        "id": "lGwScad7f0a4",
        "outputId": "688c9ffe-a536-43fe-de4f-a1afb3f297b2"
      },
      "source": [
        "vgg.summary()"
      ],
      "execution_count": null,
      "outputs": [
        {
          "output_type": "stream",
          "text": [
            "Model: \"my_vgg_1\"\n",
            "_________________________________________________________________\n",
            "Layer (type)                 Output Shape              Param #   \n",
            "=================================================================\n",
            "block_5 (Block)              multiple                  0         \n",
            "_________________________________________________________________\n",
            "block_6 (Block)              multiple                  0         \n",
            "_________________________________________________________________\n",
            "block_7 (Block)              multiple                  0         \n",
            "_________________________________________________________________\n",
            "block_8 (Block)              multiple                  0         \n",
            "_________________________________________________________________\n",
            "block_9 (Block)              multiple                  0         \n",
            "_________________________________________________________________\n",
            "flatten_1 (Flatten)          multiple                  0         \n",
            "_________________________________________________________________\n",
            "dense_2 (Dense)              multiple                  6422784   \n",
            "_________________________________________________________________\n",
            "dense_3 (Dense)              multiple                  514       \n",
            "=================================================================\n",
            "Total params: 6,423,298\n",
            "Trainable params: 6,423,298\n",
            "Non-trainable params: 0\n",
            "_________________________________________________________________\n"
          ],
          "name": "stdout"
        }
      ]
    }
  ]
}